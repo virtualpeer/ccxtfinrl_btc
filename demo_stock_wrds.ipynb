{
  "nbformat": 4,
  "nbformat_minor": 0,
  "metadata": {
    "colab": {
      "name": "eRL_demo_StockTrading.ipynb",
      "provenance": [],
      "collapsed_sections": [],
      "include_colab_link": true
    },
    "kernelspec": {
      "name": "python3",
      "display_name": "Python 3"
    }
  },
  "cells": [
    {
      "cell_type": "markdown",
      "metadata": {
        "id": "view-in-github",
        "colab_type": "text"
      },
      "source": [
        "<a href=\"https://colab.research.google.com/github/rayrui312/ccxtfinrl_btc/blob/main/demo_stock_wrds.ipynb\" target=\"_parent\"><img src=\"https://colab.research.google.com/assets/colab-badge.svg\" alt=\"Open In Colab\"/></a>"
      ]
    },
    {
      "cell_type": "markdown",
      "metadata": {
        "id": "c1gUG3OCJ5GS"
      },
      "source": [
        "# **Stock Trading Using WRDS Data in NeoFinRL**\n",
        "\n",
        "\n",
        "\n",
        "\n"
      ]
    },
    {
      "cell_type": "markdown",
      "metadata": {
        "id": "DbamGVHC3AeW"
      },
      "source": [
        "# **Part 1: Install NeoFinRL, ElegantRL and related packages**"
      ]
    },
    {
      "cell_type": "code",
      "metadata": {
        "id": "U35bhkUqOqbS",
        "colab": {
          "base_uri": "https://localhost:8080/"
        },
        "outputId": "008f5c10-bfe6-4c38-dd43-028927944f1b"
      },
      "source": [
        "!pip install git+https://github.com/AI4Finance-LLC/NeoFinRL.git\n",
        "!pip install git+https://github.com/AI4Finance-LLC/ElegantRL.git\n",
        "!pip install yfinance stockstats\n",
        "!pip install wrds\n",
        "!pip install trading_calendars"
      ],
      "execution_count": 38,
      "outputs": [
        {
          "output_type": "stream",
          "text": [
            "Collecting git+https://github.com/AI4Finance-LLC/NeoFinRL.git\n",
            "  Cloning https://github.com/AI4Finance-LLC/NeoFinRL.git to /tmp/pip-req-build-x7u_ss8i\n",
            "  Running command git clone -q https://github.com/AI4Finance-LLC/NeoFinRL.git /tmp/pip-req-build-x7u_ss8i\n",
            "Requirement already satisfied (use --upgrade to upgrade): neofinrl==0.0.1 from git+https://github.com/AI4Finance-LLC/NeoFinRL.git in /usr/local/lib/python3.7/dist-packages\n",
            "Requirement already satisfied: gym in /usr/local/lib/python3.7/dist-packages (from neofinrl==0.0.1) (0.17.3)\n",
            "Requirement already satisfied: numpy in /usr/local/lib/python3.7/dist-packages (from neofinrl==0.0.1) (1.19.5)\n",
            "Requirement already satisfied: scipy in /usr/local/lib/python3.7/dist-packages (from gym->neofinrl==0.0.1) (1.4.1)\n",
            "Requirement already satisfied: cloudpickle<1.7.0,>=1.2.0 in /usr/local/lib/python3.7/dist-packages (from gym->neofinrl==0.0.1) (1.3.0)\n",
            "Requirement already satisfied: pyglet<=1.5.0,>=1.4.0 in /usr/local/lib/python3.7/dist-packages (from gym->neofinrl==0.0.1) (1.5.0)\n",
            "Requirement already satisfied: future in /usr/local/lib/python3.7/dist-packages (from pyglet<=1.5.0,>=1.4.0->gym->neofinrl==0.0.1) (0.16.0)\n",
            "Building wheels for collected packages: neofinrl\n",
            "  Building wheel for neofinrl (setup.py) ... \u001b[?25l\u001b[?25hdone\n",
            "  Created wheel for neofinrl: filename=neofinrl-0.0.1-cp37-none-any.whl size=70711 sha256=74d00eac524c2f5c1f67fe690bf947886213a4fd92db80ce3a054cb11a683a63\n",
            "  Stored in directory: /tmp/pip-ephem-wheel-cache-mveahk3u/wheels/fa/c0/c9/bf3369bebc879bb6d0f2fbbe67715776c0dc1302dfa94ccd8f\n",
            "Successfully built neofinrl\n",
            "Collecting git+https://github.com/AI4Finance-LLC/ElegantRL.git\n",
            "  Cloning https://github.com/AI4Finance-LLC/ElegantRL.git to /tmp/pip-req-build-4notceg9\n",
            "  Running command git clone -q https://github.com/AI4Finance-LLC/ElegantRL.git /tmp/pip-req-build-4notceg9\n",
            "Requirement already satisfied (use --upgrade to upgrade): elegantrl==0.3.1 from git+https://github.com/AI4Finance-LLC/ElegantRL.git in /usr/local/lib/python3.7/dist-packages\n",
            "Requirement already satisfied: gym in /usr/local/lib/python3.7/dist-packages (from elegantrl==0.3.1) (0.17.3)\n",
            "Requirement already satisfied: matplotlib in /usr/local/lib/python3.7/dist-packages (from elegantrl==0.3.1) (3.2.2)\n",
            "Requirement already satisfied: numpy in /usr/local/lib/python3.7/dist-packages (from elegantrl==0.3.1) (1.19.5)\n",
            "Requirement already satisfied: pybullet in /usr/local/lib/python3.7/dist-packages (from elegantrl==0.3.1) (3.1.7)\n",
            "Requirement already satisfied: torch in /usr/local/lib/python3.7/dist-packages (from elegantrl==0.3.1) (1.8.1+cu101)\n",
            "Requirement already satisfied: opencv-python in /usr/local/lib/python3.7/dist-packages (from elegantrl==0.3.1) (4.1.2.30)\n",
            "Requirement already satisfied: box2d-py in /usr/local/lib/python3.7/dist-packages (from elegantrl==0.3.1) (2.3.8)\n",
            "Requirement already satisfied: cloudpickle<1.7.0,>=1.2.0 in /usr/local/lib/python3.7/dist-packages (from gym->elegantrl==0.3.1) (1.3.0)\n",
            "Requirement already satisfied: pyglet<=1.5.0,>=1.4.0 in /usr/local/lib/python3.7/dist-packages (from gym->elegantrl==0.3.1) (1.5.0)\n",
            "Requirement already satisfied: scipy in /usr/local/lib/python3.7/dist-packages (from gym->elegantrl==0.3.1) (1.4.1)\n",
            "Requirement already satisfied: kiwisolver>=1.0.1 in /usr/local/lib/python3.7/dist-packages (from matplotlib->elegantrl==0.3.1) (1.3.1)\n",
            "Requirement already satisfied: python-dateutil>=2.1 in /usr/local/lib/python3.7/dist-packages (from matplotlib->elegantrl==0.3.1) (2.8.1)\n",
            "Requirement already satisfied: pyparsing!=2.0.4,!=2.1.2,!=2.1.6,>=2.0.1 in /usr/local/lib/python3.7/dist-packages (from matplotlib->elegantrl==0.3.1) (2.4.7)\n",
            "Requirement already satisfied: cycler>=0.10 in /usr/local/lib/python3.7/dist-packages (from matplotlib->elegantrl==0.3.1) (0.10.0)\n",
            "Requirement already satisfied: typing-extensions in /usr/local/lib/python3.7/dist-packages (from torch->elegantrl==0.3.1) (3.7.4.3)\n",
            "Requirement already satisfied: future in /usr/local/lib/python3.7/dist-packages (from pyglet<=1.5.0,>=1.4.0->gym->elegantrl==0.3.1) (0.16.0)\n",
            "Requirement already satisfied: six>=1.5 in /usr/local/lib/python3.7/dist-packages (from python-dateutil>=2.1->matplotlib->elegantrl==0.3.1) (1.15.0)\n",
            "Building wheels for collected packages: elegantrl\n",
            "  Building wheel for elegantrl (setup.py) ... \u001b[?25l\u001b[?25hdone\n",
            "  Created wheel for elegantrl: filename=elegantrl-0.3.1-cp37-none-any.whl size=65369 sha256=c57de19d4a38112bfa9fc83e699df18ff80981c3c79abe452dd128607f074f4e\n",
            "  Stored in directory: /tmp/pip-ephem-wheel-cache-y55ovncl/wheels/d0/f4/2e/cec0c14b57c2094a2bcef3063f95d758ad1309a640ff100419\n",
            "Successfully built elegantrl\n",
            "Requirement already satisfied: yfinance in /usr/local/lib/python3.7/dist-packages (0.1.59)\n",
            "Requirement already satisfied: stockstats in /usr/local/lib/python3.7/dist-packages (0.3.2)\n",
            "Requirement already satisfied: pandas>=0.24 in /usr/local/lib/python3.7/dist-packages (from yfinance) (1.1.5)\n",
            "Requirement already satisfied: lxml>=4.5.1 in /usr/local/lib/python3.7/dist-packages (from yfinance) (4.6.3)\n",
            "Requirement already satisfied: requests>=2.20 in /usr/local/lib/python3.7/dist-packages (from yfinance) (2.23.0)\n",
            "Requirement already satisfied: numpy>=1.15 in /usr/local/lib/python3.7/dist-packages (from yfinance) (1.19.5)\n",
            "Requirement already satisfied: multitasking>=0.0.7 in /usr/local/lib/python3.7/dist-packages (from yfinance) (0.0.9)\n",
            "Requirement already satisfied: int-date>=0.1.7 in /usr/local/lib/python3.7/dist-packages (from stockstats) (0.1.8)\n",
            "Requirement already satisfied: pytz>=2017.2 in /usr/local/lib/python3.7/dist-packages (from pandas>=0.24->yfinance) (2018.9)\n",
            "Requirement already satisfied: python-dateutil>=2.7.3 in /usr/local/lib/python3.7/dist-packages (from pandas>=0.24->yfinance) (2.8.1)\n",
            "Requirement already satisfied: certifi>=2017.4.17 in /usr/local/lib/python3.7/dist-packages (from requests>=2.20->yfinance) (2020.12.5)\n",
            "Requirement already satisfied: chardet<4,>=3.0.2 in /usr/local/lib/python3.7/dist-packages (from requests>=2.20->yfinance) (3.0.4)\n",
            "Requirement already satisfied: urllib3!=1.25.0,!=1.25.1,<1.26,>=1.21.1 in /usr/local/lib/python3.7/dist-packages (from requests>=2.20->yfinance) (1.24.3)\n",
            "Requirement already satisfied: idna<3,>=2.5 in /usr/local/lib/python3.7/dist-packages (from requests>=2.20->yfinance) (2.10)\n",
            "Requirement already satisfied: six>=1.9.0 in /usr/local/lib/python3.7/dist-packages (from int-date>=0.1.7->stockstats) (1.15.0)\n",
            "Requirement already satisfied: wrds in /usr/local/lib/python3.7/dist-packages (3.0.10)\n",
            "Requirement already satisfied: psycopg2-binary in /usr/local/lib/python3.7/dist-packages (from wrds) (2.8.6)\n",
            "Requirement already satisfied: pandas in /usr/local/lib/python3.7/dist-packages (from wrds) (1.1.5)\n",
            "Requirement already satisfied: sqlalchemy in /usr/local/lib/python3.7/dist-packages (from wrds) (1.4.15)\n",
            "Requirement already satisfied: mock in /usr/local/lib/python3.7/dist-packages (from wrds) (4.0.3)\n",
            "Requirement already satisfied: numpy in /usr/local/lib/python3.7/dist-packages (from wrds) (1.19.5)\n",
            "Requirement already satisfied: pytz>=2017.2 in /usr/local/lib/python3.7/dist-packages (from pandas->wrds) (2018.9)\n",
            "Requirement already satisfied: python-dateutil>=2.7.3 in /usr/local/lib/python3.7/dist-packages (from pandas->wrds) (2.8.1)\n",
            "Requirement already satisfied: importlib-metadata; python_version < \"3.8\" in /usr/local/lib/python3.7/dist-packages (from sqlalchemy->wrds) (4.0.1)\n",
            "Requirement already satisfied: greenlet!=0.4.17; python_version >= \"3\" in /usr/local/lib/python3.7/dist-packages (from sqlalchemy->wrds) (1.1.0)\n",
            "Requirement already satisfied: six>=1.5 in /usr/local/lib/python3.7/dist-packages (from python-dateutil>=2.7.3->pandas->wrds) (1.15.0)\n",
            "Requirement already satisfied: typing-extensions>=3.6.4; python_version < \"3.8\" in /usr/local/lib/python3.7/dist-packages (from importlib-metadata; python_version < \"3.8\"->sqlalchemy->wrds) (3.7.4.3)\n",
            "Requirement already satisfied: zipp>=0.5 in /usr/local/lib/python3.7/dist-packages (from importlib-metadata; python_version < \"3.8\"->sqlalchemy->wrds) (3.4.1)\n",
            "Requirement already satisfied: trading_calendars in /usr/local/lib/python3.7/dist-packages (2.1.1)\n",
            "Requirement already satisfied: pandas in /usr/local/lib/python3.7/dist-packages (from trading_calendars) (1.1.5)\n",
            "Requirement already satisfied: toolz in /usr/local/lib/python3.7/dist-packages (from trading_calendars) (0.11.1)\n",
            "Requirement already satisfied: pytz in /usr/local/lib/python3.7/dist-packages (from trading_calendars) (2018.9)\n",
            "Requirement already satisfied: numpy in /usr/local/lib/python3.7/dist-packages (from trading_calendars) (1.19.5)\n",
            "Requirement already satisfied: python-dateutil in /usr/local/lib/python3.7/dist-packages (from trading_calendars) (2.8.1)\n",
            "Requirement already satisfied: six in /usr/local/lib/python3.7/dist-packages (from trading_calendars) (1.15.0)\n"
          ],
          "name": "stdout"
        }
      ]
    },
    {
      "cell_type": "markdown",
      "metadata": {
        "id": "UVdmpnK_3Zcn"
      },
      "source": [
        "# **Part 2: Import Packages**\n",
        "\n",
        "\n",
        "*   **NeoFinRL**\n",
        "*   **ElegantRL**\n",
        "\n"
      ]
    },
    {
      "cell_type": "code",
      "metadata": {
        "id": "1VM1xKujoz-6"
      },
      "source": [
        "from elegantrl.run import *\n",
        "from neo_finrl.wrds.wrds_engineer import WrdsEngineer\n",
        "from neo_finrl.wrds.env_stock_wrds import StockTradingEnv\n",
        "from elegantrl.agent import *"
      ],
      "execution_count": 39,
      "outputs": []
    },
    {
      "cell_type": "markdown",
      "metadata": {
        "id": "3n8zcgcn14uq"
      },
      "source": [
        "# **Part 3: Data Fetching and Pre-processing**\n",
        "\n",
        "*   **WrdsEngineer**: An aggregation class of data fetching and pre-processing for WRDS database\n",
        "*   **WrdsEngineer.data_fetch_ohlcv**: Download data by sending sql query to WRDS and preprocessing the raw data to get ohlcv (open, high, low, close, volume) dataframe.\n",
        "*   **WrdsEngineer.data_clean**: Clean the ohlcv data. (Fill up missing rows and missing values.)\n",
        "*   **WrdsEngineer.add_technical_indicators**: Add technical indicators to cleaned ohlcv data.\n",
        "*   **WrdsEngineer.df_to_ary**: Transform the fully preprocessed dataframe into numpy arrary (to put into the environment).\n",
        "\n",
        "\n",
        "\n",
        "> After calling this methods step by step, we will finally get a numpy array to directly put into our environment.\n",
        "\n",
        "\n"
      ]
    },
    {
      "cell_type": "code",
      "metadata": {
        "id": "E03f6cTeajK4"
      },
      "source": [
        "# Data Fetching\n",
        "#DOW_30_TICKER\n",
        "stock_list = [\"AAPL\",\"MSFT\",\"JPM\",\"V\",\"RTX\",\"PG\",\"GS\",\"NKE\",\"DIS\",\"AXP\",\"HD\",\n",
        "        \"INTC\",\"WMT\",\"IBM\",\"MRK\",\"UNH\",\"KO\",\"CAT\",\"TRV\",\"JNJ\",\"CVX\",\n",
        "        \"MCD\",\"VZ\",\"CSCO\",\"XOM\",\"BA\",\"MMM\",\"PFE\",\"WBA\",\"DD\"]\n",
        "tech_indicator_list = ['macd','boll_ub','boll_lb','rsi_30','dx_30',\n",
        "                       'close_30_sma','close_60_sma']\n",
        "# initialize WrdsEngineer, please fill in your own account info\n",
        "WE = WrdsEngineer() \n",
        "# fetch raw data and calculate ohlcv \n",
        "df = WE.data_fetch_ohlcv(start='2021-01-01',end='2021-05-01',stock_list=stock_list, time_interval=60,\n",
        "                         if_save_tempfile=False)\n",
        "\"\"\"The raw data from WRDS TAQ database is very large. The step above may take hours!!!\n",
        "Here we strongly recommend you save the temp file locally by setting \n",
        "if_save_tempfile=True.\"\"\"\n",
        "# clean the ohlcv data\n",
        "df = WE.data_clean(df)\n",
        "# add technical indicators\n",
        "df = WE.add_technical_indicators(df,tech_indicator_list=tech_indicator_list)\n",
        "print(df.head())\n",
        "# transform dataframe to numpy array\n",
        "ary = WE.df_to_ary(df, tech_indicator_list)\n",
        "\"\"\" You can also save the final array file locally by adding\n",
        "np.save('xxx',ary)\"\"\"\n",
        "print(ary[:10])\n"
      ],
      "execution_count": null,
      "outputs": []
    },
    {
      "cell_type": "markdown",
      "metadata": {
        "id": "z1j5kLHF2dhJ"
      },
      "source": [
        "# **Part 4: Train, Evaluate and Backtest the Agent by ElegantRL**\n",
        "\n",
        "See https://github.com/AI4Finance-LLC/ElegantRL/blob/master/eRL_demo_StockTrading.ipynb for more demonstrations.\n",
        "\n",
        "\n",
        "\n",
        "\n"
      ]
    },
    {
      "cell_type": "code",
      "metadata": {
        "id": "KGOPSD6da23k"
      },
      "source": [
        "args = Arguments(if_on_policy=True)\n",
        "args.agent = AgentPPO()\n",
        "\n",
        "#choose environment\n",
        "args.env = StockTradingEnv(ary = ary, stock_dim = 30, if_train=True)\n",
        "args.env_eval = StockTradingEnv(ary = ary, stock_dim = 30, if_train=False)\n",
        "args.net_dim = 2 ** 9 # change a default hyper-parameters\n",
        "args.batch_size = 2 ** 8\n",
        "args.break_step = int(5e5)\n",
        "\n",
        "train_and_evaluate(args)\n",
        "\n",
        "env = StockTradingEnv(ary=ary, stock_dim=30 ,if_train=False)\n",
        "args = Arguments(if_on_policy=True)\n",
        "args.agent = AgentPPO()\n",
        "args.env = StockTradingEnv(ary=ary, stock_dim = 30, if_train=False)\n",
        "args.if_remove = False\n",
        "args.cwd = './AgentPPO/Stock_wrds-v1_0'\n",
        "args.init_before_training()\n",
        "\n",
        "env.draw_cumulative_return(args, torch)"
      ],
      "execution_count": null,
      "outputs": []
    }
  ]
}